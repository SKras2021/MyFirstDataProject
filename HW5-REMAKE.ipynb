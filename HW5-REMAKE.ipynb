{
 "cells": [
  {
   "cell_type": "code",
   "execution_count": 35,
   "id": "da79e5b0-6a10-46e5-82ef-a0a65836f5ba",
   "metadata": {},
   "outputs": [],
   "source": [
    "#Поместим все импорты в начало ноутбука\n",
    "import pandas as pd\n",
    "import numpy as np\n",
    "from sklearn.preprocessing import OneHotEncoder\n",
    "import ast\n",
    "import math\n",
    "\n",
    "from pyspark.sql.functions import explode, col, split, when, regexp_replace\n",
    "from pyspark.sql import functions as F\n",
    "from pyspark.sql.types import IntegerType\n",
    "from pyspark.ml.recommendation import ALS\n",
    "\n",
    "from pyspark.sql import SparkSession, Row\n",
    "from pyspark.ml.evaluation import RegressionEvaluator\n",
    "from pyspark.ml.tuning import ParamGridBuilder, TrainValidationSplit"
   ]
  },
  {
   "cell_type": "code",
   "execution_count": 2,
   "id": "2198b4b5-287a-4212-90b6-8792a38923a2",
   "metadata": {},
   "outputs": [
    {
     "data": {
      "text/html": [
       "<div>\n",
       "<style scoped>\n",
       "    .dataframe tbody tr th:only-of-type {\n",
       "        vertical-align: middle;\n",
       "    }\n",
       "\n",
       "    .dataframe tbody tr th {\n",
       "        vertical-align: top;\n",
       "    }\n",
       "\n",
       "    .dataframe thead th {\n",
       "        text-align: right;\n",
       "    }\n",
       "</style>\n",
       "<table border=\"1\" class=\"dataframe\">\n",
       "  <thead>\n",
       "    <tr style=\"text-align: right;\">\n",
       "      <th></th>\n",
       "      <th>UserID</th>\n",
       "      <th>GamesOwned</th>\n",
       "      <th>name</th>\n",
       "      <th>level</th>\n",
       "      <th>badge_total</th>\n",
       "      <th>current_xp</th>\n",
       "      <th>needed_xp</th>\n",
       "      <th>friends</th>\n",
       "    </tr>\n",
       "  </thead>\n",
       "  <tbody>\n",
       "    <tr>\n",
       "      <th>6257</th>\n",
       "      <td>76561199088423335</td>\n",
       "      <td>&lt;Response [200]&gt;</td>\n",
       "      <td>broken_wings</td>\n",
       "      <td>3.0</td>\n",
       "      <td>2.0</td>\n",
       "      <td>330.0</td>\n",
       "      <td>0.0</td>\n",
       "      <td>['76561198098865839', '76561198109782826', '76...</td>\n",
       "    </tr>\n",
       "    <tr>\n",
       "      <th>5624</th>\n",
       "      <td>76561198013613261</td>\n",
       "      <td>&lt;Response [200]&gt;</td>\n",
       "      <td>w3hr</td>\n",
       "      <td>11.0</td>\n",
       "      <td>5.0</td>\n",
       "      <td>1339.0</td>\n",
       "      <td>0.0</td>\n",
       "      <td>['76561197960951610', '76561197961116309', '76...</td>\n",
       "    </tr>\n",
       "    <tr>\n",
       "      <th>7385</th>\n",
       "      <td>76561197963496685</td>\n",
       "      <td>&lt;Response [200]&gt;</td>\n",
       "      <td>Ethan</td>\n",
       "      <td>0.0</td>\n",
       "      <td>0.0</td>\n",
       "      <td>0.0</td>\n",
       "      <td>0.0</td>\n",
       "      <td>Error: 'friendslist'</td>\n",
       "    </tr>\n",
       "  </tbody>\n",
       "</table>\n",
       "</div>"
      ],
      "text/plain": [
       "                 UserID        GamesOwned          name  level  badge_total  \\\n",
       "6257  76561199088423335  <Response [200]>  broken_wings    3.0          2.0   \n",
       "5624  76561198013613261  <Response [200]>          w3hr   11.0          5.0   \n",
       "7385  76561197963496685  <Response [200]>         Ethan    0.0          0.0   \n",
       "\n",
       "      current_xp  needed_xp                                            friends  \n",
       "6257       330.0        0.0  ['76561198098865839', '76561198109782826', '76...  \n",
       "5624      1339.0        0.0  ['76561197960951610', '76561197961116309', '76...  \n",
       "7385         0.0        0.0                               Error: 'friendslist'  "
      ]
     },
     "execution_count": 2,
     "metadata": {},
     "output_type": "execute_result"
    }
   ],
   "source": [
    "#загрузим данные из 4 части\n",
    "df = pd.read_csv('output_file.csv')\n",
    "df = df[df['error'].isna()]\n",
    "df = df.sample(frac=0.1, random_state=42).copy() #когда тестировал работал с уменьшенным датасатом для скорости.\n",
    "df.drop(columns=['error'], inplace=True)\n",
    "df.drop(columns=['picture'], inplace=True)\n",
    "df.head(3)"
   ]
  },
  {
   "cell_type": "code",
   "execution_count": 3,
   "id": "c93504f3-6c55-423b-bee9-9f631bd41db3",
   "metadata": {},
   "outputs": [
    {
     "name": "stderr",
     "output_type": "stream",
     "text": [
      "24/10/17 14:46:01 WARN Utils: Your hostname, Savvas-MacBook-Pro.local resolves to a loopback address: 127.0.0.1; using 172.20.10.6 instead (on interface en0)\n",
      "24/10/17 14:46:01 WARN Utils: Set SPARK_LOCAL_IP if you need to bind to another address\n",
      "Setting default log level to \"WARN\".\n",
      "To adjust logging level use sc.setLogLevel(newLevel). For SparkR, use setLogLevel(newLevel).\n",
      "24/10/17 14:46:01 WARN NativeCodeLoader: Unable to load native-hadoop library for your platform... using builtin-java classes where applicable\n"
     ]
    },
    {
     "data": {
      "text/html": [
       "<div>\n",
       "<style scoped>\n",
       "    .dataframe tbody tr th:only-of-type {\n",
       "        vertical-align: middle;\n",
       "    }\n",
       "\n",
       "    .dataframe tbody tr th {\n",
       "        vertical-align: top;\n",
       "    }\n",
       "\n",
       "    .dataframe thead th {\n",
       "        text-align: right;\n",
       "    }\n",
       "</style>\n",
       "<table border=\"1\" class=\"dataframe\">\n",
       "  <thead>\n",
       "    <tr style=\"text-align: right;\">\n",
       "      <th></th>\n",
       "      <th>UserID</th>\n",
       "      <th>app_ids</th>\n",
       "      <th>playtime</th>\n",
       "      <th>games_owned_num</th>\n",
       "      <th>name</th>\n",
       "      <th>level</th>\n",
       "      <th>badge_total</th>\n",
       "      <th>current_xp</th>\n",
       "      <th>needed_xp</th>\n",
       "      <th>friends</th>\n",
       "    </tr>\n",
       "  </thead>\n",
       "  <tbody>\n",
       "    <tr>\n",
       "      <th>0</th>\n",
       "      <td>76561198892667092</td>\n",
       "      <td>550</td>\n",
       "      <td>77</td>\n",
       "      <td>294</td>\n",
       "      <td>Lair86</td>\n",
       "      <td>8.0</td>\n",
       "      <td>5.0</td>\n",
       "      <td>872.0</td>\n",
       "      <td>0.0</td>\n",
       "      <td>0</td>\n",
       "    </tr>\n",
       "    <tr>\n",
       "      <th>1</th>\n",
       "      <td>76561198892667092</td>\n",
       "      <td>22380</td>\n",
       "      <td>24</td>\n",
       "      <td>294</td>\n",
       "      <td>Lair86</td>\n",
       "      <td>8.0</td>\n",
       "      <td>5.0</td>\n",
       "      <td>872.0</td>\n",
       "      <td>0.0</td>\n",
       "      <td>0</td>\n",
       "    </tr>\n",
       "    <tr>\n",
       "      <th>2</th>\n",
       "      <td>76561198892667092</td>\n",
       "      <td>42700</td>\n",
       "      <td>72</td>\n",
       "      <td>294</td>\n",
       "      <td>Lair86</td>\n",
       "      <td>8.0</td>\n",
       "      <td>5.0</td>\n",
       "      <td>872.0</td>\n",
       "      <td>0.0</td>\n",
       "      <td>0</td>\n",
       "    </tr>\n",
       "    <tr>\n",
       "      <th>3</th>\n",
       "      <td>76561198892667092</td>\n",
       "      <td>42710</td>\n",
       "      <td>10</td>\n",
       "      <td>294</td>\n",
       "      <td>Lair86</td>\n",
       "      <td>8.0</td>\n",
       "      <td>5.0</td>\n",
       "      <td>872.0</td>\n",
       "      <td>0.0</td>\n",
       "      <td>0</td>\n",
       "    </tr>\n",
       "    <tr>\n",
       "      <th>4</th>\n",
       "      <td>76561198892667092</td>\n",
       "      <td>105600</td>\n",
       "      <td>5002</td>\n",
       "      <td>294</td>\n",
       "      <td>Lair86</td>\n",
       "      <td>8.0</td>\n",
       "      <td>5.0</td>\n",
       "      <td>872.0</td>\n",
       "      <td>0.0</td>\n",
       "      <td>0</td>\n",
       "    </tr>\n",
       "  </tbody>\n",
       "</table>\n",
       "</div>"
      ],
      "text/plain": [
       "              UserID app_ids playtime  games_owned_num    name  level  \\\n",
       "0  76561198892667092     550       77              294  Lair86    8.0   \n",
       "1  76561198892667092   22380       24              294  Lair86    8.0   \n",
       "2  76561198892667092   42700       72              294  Lair86    8.0   \n",
       "3  76561198892667092   42710       10              294  Lair86    8.0   \n",
       "4  76561198892667092  105600     5002              294  Lair86    8.0   \n",
       "\n",
       "   badge_total  current_xp  needed_xp  friends  \n",
       "0          5.0       872.0        0.0        0  \n",
       "1          5.0       872.0        0.0        0  \n",
       "2          5.0       872.0        0.0        0  \n",
       "3          5.0       872.0        0.0        0  \n",
       "4          5.0       872.0        0.0        0  "
      ]
     },
     "execution_count": 3,
     "metadata": {},
     "output_type": "execute_result"
    }
   ],
   "source": [
    "#Трансформация данных 1 этап\n",
    "friends = []\n",
    "for i in range(0,df.shape[0]):\n",
    "    temp = df.iloc[i]['friends']\n",
    "    if (type(temp) != type(1)):\n",
    "        lst = (temp.split(\",\"))\n",
    "    friends.append(len(lst)-1)\n",
    "df['friends'] = friends\n",
    "\n",
    "friends = []\n",
    "for i in range(0,df.shape[0]):\n",
    "    temp = df.iloc[i]['GamesOwned']\n",
    "    if (type(temp) != type(1)):\n",
    "        lst = (temp.split(\",\"))\n",
    "    friends.append(len(lst)-1)\n",
    "df['GamesOwnedNum'] = friends\n",
    "\n",
    "df_new = pd.DataFrame(columns=[\n",
    "    'UserID', 'app_ids', 'playtime', 'games_owned_num', 'name', \n",
    "    'level', 'badge_total', 'current_xp', 'needed_xp', 'friends'\n",
    "])\n",
    "for i in range(df.shape[0]):\n",
    "    val = df.iloc[i]['GamesOwned']\n",
    "    if (val[0] != '['):\n",
    "        games = []\n",
    "    else:    \n",
    "        games = val.strip(\"[]\").split(\"}, {\")\n",
    "    temp_lst = []\n",
    "    temp_lst1 = []\n",
    "    for el in games:\n",
    "        if (el[0] != '{'): #Фиксим структуру в крайних случаях\n",
    "            el = \"{\" + el\n",
    "        if (el[-1] != '}'):\n",
    "            el = el + '}'\n",
    "        el = ast.literal_eval(el)\n",
    "        temp_lst.append((el['appid']))\n",
    "        temp_lst1.append((el['playtime_forever']))\n",
    "    newrow = [\n",
    "                str(df.iloc[i]['UserID']),     \n",
    "                temp_lst,            \n",
    "                temp_lst1,            \n",
    "                df.iloc[i]['GamesOwnedNum'],       \n",
    "                df.iloc[i]['name'],                 \n",
    "                df.iloc[i]['level'],           \n",
    "                df.iloc[i]['badge_total'],        \n",
    "                df.iloc[i]['current_xp'],         \n",
    "                df.iloc[i]['needed_xp'],        \n",
    "                df.iloc[i]['friends']            \n",
    "            ]\n",
    "            \n",
    "    df_new.loc[len(df_new)] = newrow\n",
    "\n",
    "existing_spark = SparkSession.getActiveSession()\n",
    "if existing_spark is not None:\n",
    "    existing_spark.stop()\n",
    "    \n",
    "spark = SparkSession.builder \\\n",
    "    .appName(\"GameRecommendationALS\") \\\n",
    "    .config(\"spark.executor.memory\", \"8g\") \\\n",
    "    .config(\"spark.driver.memory\", \"8g\") \\\n",
    "    .config(\"spark.executor.cores\", \"4\") \\\n",
    "    .config(\"spark.num.executors\", \"10\") \\\n",
    "    .config(\"spark.eventLog.gcMetrics.youngGenerationGarbageCollectors\", \"G1GC\") \\\n",
    "    .config(\"spark.eventLog.gcMetrics.oldGenerationGarbageCollectors\", \"G1GC\").getOrCreate()\n",
    "\n",
    "\n",
    "df_new = df_new.explode(['app_ids', 'playtime'])\n",
    "\n",
    "df_new = df_new.dropna()\n",
    "\n",
    "df_new = df_new.reset_index(drop=True)\n",
    "\n",
    "df_new.head(5)"
   ]
  },
  {
   "cell_type": "code",
   "execution_count": null,
   "id": "32c4f2f3-e275-43d7-89c8-7e5980d93377",
   "metadata": {},
   "outputs": [],
   "source": [
    "#пустили SparkSession и подготоврили dataset для работы."
   ]
  },
  {
   "cell_type": "code",
   "execution_count": 33,
   "id": "cc1ca681-0f40-4925-b6f1-e5d21efb1bb0",
   "metadata": {},
   "outputs": [
    {
     "name": "stdout",
     "output_type": "stream",
     "text": [
      "+-----------+-------+--------+\n",
      "|user_int_id|app_ids|playtime|\n",
      "+-----------+-------+--------+\n",
      "|          0| 485610|       0|\n",
      "|          0| 435790|       7|\n",
      "|          0|1226470|     424|\n",
      "|          0|1174180|    2579|\n",
      "|          0| 950100|       0|\n",
      "+-----------+-------+--------+\n",
      "only showing top 5 rows\n",
      "\n"
     ]
    },
    {
     "name": "stderr",
     "output_type": "stream",
     "text": [
      "                                                                                \r"
     ]
    }
   ],
   "source": [
    "df = spark.createDataFrame(df_new)\n",
    "\n",
    "user_id_mapping = df.select(\"UserID\").distinct().withColumn(\"user_int_id\", F.monotonically_increasing_id())\n",
    "df = df.join(user_id_mapping, on=\"UserID\", how=\"inner\")\n",
    "\n",
    "\n",
    "\n",
    "df_als = df.select(\n",
    "    col(\"user_int_id\"), \n",
    "    col(\"app_ids\").alias(\"app_ids\"), \n",
    "    col(\"playtime\").alias(\"playtime\")\n",
    ")\n",
    "\n",
    "df_als.show(5)\n"
   ]
  },
  {
   "cell_type": "code",
   "execution_count": 24,
   "id": "929de939-581e-4371-8ca3-190e255878cd",
   "metadata": {},
   "outputs": [],
   "source": [
    "def test_param_grid(predictions):\n",
    "    #упрощённая метрика для теста параметров модели (из урока 4)\n",
    "    predictions = predictions.withColumn('pred_label', F.when(F.col('prediction') > 0, 1).otherwise(0)) #если предсказание по времение >0\n",
    "    predictions = predictions.withColumn('true_label', F.when(F.col('playtime') > 0, 1).otherwise(0)) #если пользователь играл\n",
    "    \n",
    "    y_test = np.array(predictions.select('true_label').collect()).flatten() #адаптируем результат к нашей метрике\n",
    "    y_pred_round = np.array(predictions.select('pred_label').collect()).flatten()\n",
    "    \n",
    "    confusion_matrix = np.zeros((2, 2), dtype=int)\n",
    "    \n",
    "    for true_label, pred_label in zip(y_test, y_pred_round):\n",
    "        confusion_matrix[true_label, pred_label] += 1\n",
    "    \n",
    "    i = 1\n",
    "    TP = confusion_matrix[i, i] \n",
    "    FN = confusion_matrix[i, :].sum() - TP \n",
    "    FP = confusion_matrix[:, i].sum() - TP \n",
    "    TN = confusion_matrix.sum() - (TP + FN + FP)\n",
    "    \n",
    "    return (2*(TP)/(TP+FP)*(TP)/(TP+FN))/((TP)/(TP+FP)+(TP)/(TP+FN))"
   ]
  },
  {
   "cell_type": "code",
   "execution_count": 32,
   "id": "8984a326-b9bb-4b35-a3b5-723789eb74ee",
   "metadata": {},
   "outputs": [
    {
     "name": "stderr",
     "output_type": "stream",
     "text": [
      "                                                                                \r"
     ]
    },
    {
     "name": "stdout",
     "output_type": "stream",
     "text": [
      "(0.7533502354219486, 5, 0.01, 10)\n"
     ]
    },
    {
     "name": "stderr",
     "output_type": "stream",
     "text": [
      "                                                                                \r"
     ]
    },
    {
     "name": "stdout",
     "output_type": "stream",
     "text": [
      "(0.751945055534689, 5, 0.01, 20)\n"
     ]
    },
    {
     "name": "stderr",
     "output_type": "stream",
     "text": [
      "                                                                                \r"
     ]
    },
    {
     "name": "stdout",
     "output_type": "stream",
     "text": [
      "(0.6807161725858526, 5, 0.01, 50)\n"
     ]
    },
    {
     "name": "stderr",
     "output_type": "stream",
     "text": [
      "                                                                                \r"
     ]
    },
    {
     "name": "stdout",
     "output_type": "stream",
     "text": [
      "(0.7542084064855933, 5, 0.1, 10)\n"
     ]
    },
    {
     "name": "stderr",
     "output_type": "stream",
     "text": [
      "                                                                                \r"
     ]
    },
    {
     "name": "stdout",
     "output_type": "stream",
     "text": [
      "(0.7542173820200726, 5, 0.1, 20)\n"
     ]
    },
    {
     "name": "stderr",
     "output_type": "stream",
     "text": [
      "                                                                                \r"
     ]
    },
    {
     "name": "stdout",
     "output_type": "stream",
     "text": [
      "(0.6864770748694137, 5, 0.1, 50)\n"
     ]
    },
    {
     "name": "stderr",
     "output_type": "stream",
     "text": [
      "                                                                                \r"
     ]
    },
    {
     "name": "stdout",
     "output_type": "stream",
     "text": [
      "(0.7549327700788212, 5, 0.2, 10)\n"
     ]
    },
    {
     "name": "stderr",
     "output_type": "stream",
     "text": [
      "                                                                                \r"
     ]
    },
    {
     "name": "stdout",
     "output_type": "stream",
     "text": [
      "(0.7561987868468659, 5, 0.2, 20)\n"
     ]
    },
    {
     "name": "stderr",
     "output_type": "stream",
     "text": [
      "                                                                                \r"
     ]
    },
    {
     "name": "stdout",
     "output_type": "stream",
     "text": [
      "(0.6959218839747272, 5, 0.2, 50)\n"
     ]
    },
    {
     "name": "stderr",
     "output_type": "stream",
     "text": [
      "                                                                                \r"
     ]
    },
    {
     "name": "stdout",
     "output_type": "stream",
     "text": [
      "(0.7593279736136879, 10, 0.01, 10)\n"
     ]
    },
    {
     "name": "stderr",
     "output_type": "stream",
     "text": [
      "                                                                                \r"
     ]
    },
    {
     "name": "stdout",
     "output_type": "stream",
     "text": [
      "(0.7565240499601381, 10, 0.01, 20)\n"
     ]
    },
    {
     "name": "stderr",
     "output_type": "stream",
     "text": [
      "                                                                                \r"
     ]
    },
    {
     "name": "stdout",
     "output_type": "stream",
     "text": [
      "(0.6972223819656105, 10, 0.01, 50)\n"
     ]
    },
    {
     "name": "stderr",
     "output_type": "stream",
     "text": [
      "                                                                                \r"
     ]
    },
    {
     "name": "stdout",
     "output_type": "stream",
     "text": [
      "(0.7602940420500693, 10, 0.1, 10)\n"
     ]
    },
    {
     "name": "stderr",
     "output_type": "stream",
     "text": [
      "                                                                                \r"
     ]
    },
    {
     "name": "stdout",
     "output_type": "stream",
     "text": [
      "(0.7585333685043524, 10, 0.1, 20)\n"
     ]
    },
    {
     "name": "stderr",
     "output_type": "stream",
     "text": [
      "                                                                                \r"
     ]
    },
    {
     "name": "stdout",
     "output_type": "stream",
     "text": [
      "(0.6999544522887726, 10, 0.1, 50)\n"
     ]
    },
    {
     "name": "stderr",
     "output_type": "stream",
     "text": [
      "                                                                                \r"
     ]
    },
    {
     "name": "stdout",
     "output_type": "stream",
     "text": [
      "(0.7614213197969544, 10, 0.2, 10)\n"
     ]
    },
    {
     "name": "stderr",
     "output_type": "stream",
     "text": [
      "                                                                                \r"
     ]
    },
    {
     "name": "stdout",
     "output_type": "stream",
     "text": [
      "(0.7600441153300772, 10, 0.2, 20)\n"
     ]
    },
    {
     "name": "stderr",
     "output_type": "stream",
     "text": [
      "                                                                                \r"
     ]
    },
    {
     "name": "stdout",
     "output_type": "stream",
     "text": [
      "(0.710164525580347, 10, 0.2, 50)\n"
     ]
    },
    {
     "name": "stderr",
     "output_type": "stream",
     "text": [
      "                                                                                \r"
     ]
    },
    {
     "name": "stdout",
     "output_type": "stream",
     "text": [
      "(0.7616460820991136, 20, 0.01, 10)\n"
     ]
    },
    {
     "name": "stderr",
     "output_type": "stream",
     "text": [
      "                                                                                \r"
     ]
    },
    {
     "name": "stdout",
     "output_type": "stream",
     "text": [
      "(0.7549920760697305, 20, 0.01, 20)\n"
     ]
    },
    {
     "name": "stderr",
     "output_type": "stream",
     "text": [
      "                                                                                \r"
     ]
    },
    {
     "name": "stdout",
     "output_type": "stream",
     "text": [
      "(0.7090217453017658, 20, 0.01, 50)\n"
     ]
    },
    {
     "name": "stderr",
     "output_type": "stream",
     "text": [
      "                                                                                \r"
     ]
    },
    {
     "name": "stdout",
     "output_type": "stream",
     "text": [
      "(0.7642999539947862, 20, 0.1, 10)\n"
     ]
    },
    {
     "name": "stderr",
     "output_type": "stream",
     "text": [
      "                                                                                \r"
     ]
    },
    {
     "name": "stdout",
     "output_type": "stream",
     "text": [
      "(0.7591729913635175, 20, 0.1, 20)\n"
     ]
    },
    {
     "name": "stderr",
     "output_type": "stream",
     "text": [
      "                                                                                \r"
     ]
    },
    {
     "name": "stdout",
     "output_type": "stream",
     "text": [
      "(0.7179027559937262, 20, 0.1, 50)\n"
     ]
    },
    {
     "name": "stderr",
     "output_type": "stream",
     "text": [
      "                                                                                \r"
     ]
    },
    {
     "name": "stdout",
     "output_type": "stream",
     "text": [
      "(0.7647148754013149, 20, 0.2, 10)\n"
     ]
    },
    {
     "name": "stderr",
     "output_type": "stream",
     "text": [
      "                                                                                \r"
     ]
    },
    {
     "name": "stdout",
     "output_type": "stream",
     "text": [
      "(0.7626244202407629, 20, 0.2, 20)\n"
     ]
    },
    {
     "name": "stderr",
     "output_type": "stream",
     "text": [
      "                                                                                \r"
     ]
    },
    {
     "name": "stdout",
     "output_type": "stream",
     "text": [
      "(0.6174667182234989, 20, 0.2, 50)\n",
      "Лучшие параметры: (0.7647148754013149, 20, 0.2, 10)\n"
     ]
    }
   ],
   "source": [
    "#Разделим датасет на train и test\n",
    "train_df, test_df = df_als.randomSplit([0.8, 0.2], seed=42)\n",
    "\n",
    "als = ALS(\n",
    "    userCol=\"user_int_id\", \n",
    "    itemCol=\"app_ids\", \n",
    "    ratingCol=\"playtime\", \n",
    "    implicitPrefs=True, \n",
    "    coldStartStrategy=\"drop\" #важно иначе будет НаН из за невозможности адекватно сделать предсказание\n",
    ")\n",
    "\n",
    "#найдём оптимальные параметры модели\n",
    "maxIter = [5, 10, 20]\n",
    "regParam = [0.01, 0.1, 0.2]\n",
    "rank = [10, 20, 50]\n",
    "\n",
    "lstf1 = []\n",
    "#я сделал подбор параметров в ручную\n",
    "for el1 in maxIter:\n",
    "    for el2 in regParam:\n",
    "        for el3 in rank:\n",
    "            als.setMaxIter(el1)\n",
    "            als.setRegParam(el2)\n",
    "            als.setRank(el3)\n",
    "            als_model = als.fit(train_df)\n",
    "            predictions = als_model.transform(test_df)\n",
    "            lstf1.append((test_param_grid(predictions), el1, el2, el3))\n",
    "            print(lstf1[-1])\n",
    "\n",
    "max_fit_tuple = max(lstf1, key=lambda x: x[0])\n",
    "print(\"Лучшие параметры:\", max_fit_tuple)\n",
    "\n",
    "als.setMaxIter(max_fit_tuple[1])\n",
    "als.setRegParam(max_fit_tuple[2])\n",
    "als.setRank(max_fit_tuple[3])\n",
    "\n",
    "#Фитим лучшую модель\n",
    "als_model = als.fit(train_df)\n",
    "predictions = als_model.transform(test_df)\n"
   ]
  },
  {
   "cell_type": "code",
   "execution_count": 30,
   "id": "d2c79f7b-b0d1-467d-8a96-a22fd02ab711",
   "metadata": {},
   "outputs": [
    {
     "name": "stderr",
     "output_type": "stream",
     "text": [
      "                                                                                \r"
     ]
    },
    {
     "data": {
      "text/plain": [
       "[Row(user_int_id=1, app_ids=310950, playtime=569, prediction=0.9223475456237793),\n",
       " Row(user_int_id=7, app_ids=945360, playtime=5953, prediction=1.0353220701217651),\n",
       " Row(user_int_id=11, app_ids=945360, playtime=2436, prediction=1.0013173818588257),\n",
       " Row(user_int_id=22, app_ids=945360, playtime=14232, prediction=1.0074678659439087),\n",
       " Row(user_int_id=28, app_ids=945360, playtime=727, prediction=0.9778640270233154),\n",
       " Row(user_int_id=32, app_ids=222730, playtime=194, prediction=0.6599942445755005),\n",
       " Row(user_int_id=40, app_ids=847370, playtime=26, prediction=-0.013680696487426758),\n",
       " Row(user_int_id=40, app_ids=945360, playtime=2863, prediction=1.0137982368469238),\n",
       " Row(user_int_id=41, app_ids=945360, playtime=648, prediction=0.9855535626411438),\n",
       " Row(user_int_id=55, app_ids=945360, playtime=3526, prediction=1.0146288871765137)]"
      ]
     },
     "execution_count": 30,
     "metadata": {},
     "output_type": "execute_result"
    }
   ],
   "source": [
    "predictions.head(10)"
   ]
  },
  {
   "cell_type": "code",
   "execution_count": 31,
   "id": "240241f2-f6f5-4ba0-bc63-8a51f7a072d7",
   "metadata": {},
   "outputs": [
    {
     "name": "stderr",
     "output_type": "stream",
     "text": [
      "                                                                                \r"
     ]
    },
    {
     "name": "stdout",
     "output_type": "stream",
     "text": [
      "\n",
      "Target = 1:\n",
      "True Positives (TP): 7503\n",
      "False Negatives (FN): 1045\n",
      "False Positives (FP): 3572\n",
      "True Negatives (TN): 2528\n",
      "Accuracy: 0.684803386127799\n",
      "Precision: 0.6774717832957111\n",
      "Recall: 0.877749181094993\n",
      "F1 Score: 0.7647148754013149\n",
      "Matthews Correlation Coefficient: 0.33539181653907785\n"
     ]
    }
   ],
   "source": [
    "#Протестим результаты той же метрикой, что и в прошлый раз\n",
    "\n",
    "predictions = predictions.withColumn('pred_label', F.when(F.col('prediction') > 0, 1).otherwise(0)) #если предсказание по времение >0\n",
    "predictions = predictions.withColumn('true_label', F.when(F.col('playtime') > 0, 1).otherwise(0)) #если пользователь играл\n",
    "\n",
    "y_test = np.array(predictions.select('true_label').collect()).flatten() #адаптируем результат к нашей метрике\n",
    "y_pred_round = np.array(predictions.select('pred_label').collect()).flatten()\n",
    "\n",
    "confusion_matrix = np.zeros((2, 2), dtype=int)\n",
    "\n",
    "for true_label, pred_label in zip(y_test, y_pred_round):\n",
    "    confusion_matrix[true_label, pred_label] += 1\n",
    "\n",
    "i = 1\n",
    "TP = confusion_matrix[i, i] \n",
    "FN = confusion_matrix[i, :].sum() - TP \n",
    "FP = confusion_matrix[:, i].sum() - TP \n",
    "TN = confusion_matrix.sum() - (TP + FN + FP)\n",
    "\n",
    "TPF += TP\n",
    "FNF += FN\n",
    "FPF += FP\n",
    "TNF += TN\n",
    "\n",
    "print(f\"\\nTarget = {i}:\")\n",
    "print(f\"True Positives (TP): {TP}\")\n",
    "print(f\"False Negatives (FN): {FN}\")\n",
    "print(f\"False Positives (FP): {FP}\")\n",
    "print(f\"True Negatives (TN): {TN}\")\n",
    "\n",
    "print(f'Accuracy: {(TP+TN)/(TP+TN+FP+FN)}')\n",
    "print(f'Precision: {(TP)/(TP+FP)}')\n",
    "print(f'Recall: {(TP)/(TP+FN)}') \n",
    "print(f'F1 Score: {(2*(TP)/(TP+FP)*(TP)/(TP+FN))/((TP)/(TP+FP)+(TP)/(TP+FN))}')\n",
    "print(f'Matthews Correlation Coefficient: {((TP*TN)-(FP*FN))/(math.sqrt((TP+FN)*(TP+FP)*(TN+FN)*(TN+FP)))}') #так как на лицо дизбаланс классов"
   ]
  },
  {
   "cell_type": "code",
   "execution_count": null,
   "id": "5808bfc7-2032-4b4c-8c02-85c0d9c1a8fb",
   "metadata": {},
   "outputs": [],
   "source": [
    "\"\"\"\n",
    "Заключение\n",
    "В сравнение с предыдущей части следующие моменты были исправленны в соответствие с feedback-ом\n",
    "\n",
    "1.Все импорты перенесенны в начало ноутбука\n",
    "\n",
    "2.Приведение системы оценки качества работы модели к общему знаменателю с оценкой из предыдущей части\n",
    "\n",
    "3.Улучшения байзлана путём работы с усложнёнными классическими рекомендательными моделями\n",
    "\n",
    "4.Реализован подбор параметров с поиском наиболее эффектиконо\n",
    "\n",
    "Результаты\n",
    "Мы создали более сложную модель, которая научилась определять заинтересуюет ли пользователя та или иная игра (на базе playtime). В отличие от\n",
    "4 части наша модель работает куда быстрее и требует меньше данных, что критично для нашего сервиса и его дальнейшего маштабирования.\n",
    "У нас очень хороший recall, а относительно низний precision не являеться проблемой, так как мы реккомендуем сразу несколько игр!\n",
    "\"\"\""
   ]
  }
 ],
 "metadata": {
  "kernelspec": {
   "display_name": "Python 3 (ipykernel)",
   "language": "python",
   "name": "python3"
  },
  "language_info": {
   "codemirror_mode": {
    "name": "ipython",
    "version": 3
   },
   "file_extension": ".py",
   "mimetype": "text/x-python",
   "name": "python",
   "nbconvert_exporter": "python",
   "pygments_lexer": "ipython3",
   "version": "3.12.2"
  }
 },
 "nbformat": 4,
 "nbformat_minor": 5
}
